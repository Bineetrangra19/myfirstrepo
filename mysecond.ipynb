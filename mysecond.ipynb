{
 "cells": [
  {
   "cell_type": "code",
   "execution_count": 1,
   "id": "41edd7c5-1450-4ced-86a4-8c76cad122b8",
   "metadata": {},
   "outputs": [
    {
     "data": {
      "text/plain": [
       "8"
      ]
     },
     "execution_count": 1,
     "metadata": {},
     "output_type": "execute_result"
    }
   ],
   "source": [
    "1*8"
   ]
  },
  {
   "cell_type": "code",
   "execution_count": 2,
   "id": "3457af98-ec11-4c10-98ef-555e17836301",
   "metadata": {},
   "outputs": [
    {
     "name": "stdout",
     "output_type": "stream",
     "text": [
      "bineet\n"
     ]
    }
   ],
   "source": [
    "print('bineet')"
   ]
  },
  {
   "cell_type": "code",
   "execution_count": 3,
   "id": "ed47c726-9174-4759-bd51-3f4202d77e66",
   "metadata": {},
   "outputs": [
    {
     "data": {
      "text/plain": [
       "100.5"
      ]
     },
     "execution_count": 3,
     "metadata": {},
     "output_type": "execute_result"
    }
   ],
   "source": [
    "80/2*3+10-29.5"
   ]
  },
  {
   "cell_type": "code",
   "execution_count": 5,
   "id": "d3c47826-c9c6-4da6-aa81-f49df8d0d132",
   "metadata": {},
   "outputs": [
    {
     "data": {
      "text/plain": [
       "44"
      ]
     },
     "execution_count": 5,
     "metadata": {},
     "output_type": "execute_result"
    }
   ],
   "source": [
    "4* (6+5)"
   ]
  },
  {
   "cell_type": "code",
   "execution_count": 6,
   "id": "806d98ce-5768-425a-b481-ae4f3488e790",
   "metadata": {},
   "outputs": [
    {
     "data": {
      "text/plain": [
       "29"
      ]
     },
     "execution_count": 6,
     "metadata": {},
     "output_type": "execute_result"
    }
   ],
   "source": [
    "4*6+5"
   ]
  },
  {
   "cell_type": "code",
   "execution_count": 7,
   "id": "88d8db8d-d12c-4fc4-a33a-272745bbff8f",
   "metadata": {},
   "outputs": [
    {
     "data": {
      "text/plain": [
       "34"
      ]
     },
     "execution_count": 7,
     "metadata": {},
     "output_type": "execute_result"
    }
   ],
   "source": [
    "4+6*5"
   ]
  },
  {
   "cell_type": "code",
   "execution_count": 11,
   "id": "26c5f691-3998-4b1c-93c0-468d866d9ea3",
   "metadata": {},
   "outputs": [
    {
     "data": {
      "text/plain": [
       "16"
      ]
     },
     "execution_count": 11,
     "metadata": {},
     "output_type": "execute_result"
    }
   ],
   "source": [
    "4*4"
   ]
  },
  {
   "cell_type": "markdown",
   "id": "07a5eb1a-7997-45d3-8af3-0a5fc2a44dbc",
   "metadata": {},
   "source": [
    "num=16\n",
    "sqrd_num = math.sqrt(num)"
   ]
  },
  {
   "cell_type": "code",
   "execution_count": 12,
   "id": "8ff3996b-334c-47e5-9a60-a33404c022af",
   "metadata": {},
   "outputs": [
    {
     "ename": "NameError",
     "evalue": "name 'math' is not defined",
     "output_type": "error",
     "traceback": [
      "\u001b[1;31m---------------------------------------------------------------------------\u001b[0m",
      "\u001b[1;31mNameError\u001b[0m                                 Traceback (most recent call last)",
      "\u001b[1;32m~\\AppData\\Local\\Temp\\ipykernel_19476\\807148719.py\u001b[0m in \u001b[0;36m<module>\u001b[1;34m\u001b[0m\n\u001b[0;32m      1\u001b[0m \u001b[0mnum\u001b[0m\u001b[1;33m=\u001b[0m\u001b[1;36m16\u001b[0m\u001b[1;33m\u001b[0m\u001b[1;33m\u001b[0m\u001b[0m\n\u001b[1;32m----> 2\u001b[1;33m \u001b[0msqrd_num\u001b[0m \u001b[1;33m=\u001b[0m \u001b[0mmath\u001b[0m\u001b[1;33m.\u001b[0m\u001b[0msqrt\u001b[0m\u001b[1;33m(\u001b[0m\u001b[1;34m'num'\u001b[0m\u001b[1;33m)\u001b[0m\u001b[1;33m\u001b[0m\u001b[1;33m\u001b[0m\u001b[0m\n\u001b[0m",
      "\u001b[1;31mNameError\u001b[0m: name 'math' is not defined"
     ]
    }
   ],
   "source": [
    "num=16\n",
    "sqrd_num = math.sqrt('num')"
   ]
  },
  {
   "cell_type": "code",
   "execution_count": 13,
   "id": "f05d8fdc-aa61-4131-9208-afa0543b06b2",
   "metadata": {},
   "outputs": [],
   "source": [
    "num=16"
   ]
  },
  {
   "cell_type": "code",
   "execution_count": 14,
   "id": "f7448355-dcc3-4c03-ae72-55654465efdd",
   "metadata": {},
   "outputs": [],
   "source": [
    "import math\n",
    "num=16\n",
    "sqrt_num= math.sqrt(num)"
   ]
  },
  {
   "cell_type": "code",
   "execution_count": 15,
   "id": "c6e88077-8891-49e3-b8a2-e95ba014f742",
   "metadata": {},
   "outputs": [
    {
     "name": "stdout",
     "output_type": "stream",
     "text": [
      "4.0\n"
     ]
    }
   ],
   "source": [
    "print(sqrt_num)"
   ]
  },
  {
   "cell_type": "code",
   "execution_count": 16,
   "id": "e5ea6490-f764-42fa-87d2-7ff623df160b",
   "metadata": {},
   "outputs": [],
   "source": [
    "num=9\n",
    "sqrt_num= math.sqrt(num)"
   ]
  },
  {
   "cell_type": "code",
   "execution_count": 17,
   "id": "383a7c62-494b-44c6-85d7-862d44672230",
   "metadata": {},
   "outputs": [
    {
     "name": "stdout",
     "output_type": "stream",
     "text": [
      "3.0\n"
     ]
    }
   ],
   "source": [
    "print(sqrt_num)"
   ]
  },
  {
   "cell_type": "code",
   "execution_count": 18,
   "id": "c6b57344-2ddd-4807-87fc-8cf7a6b0448a",
   "metadata": {},
   "outputs": [],
   "source": [
    "mystring= ('Hello World')"
   ]
  },
  {
   "cell_type": "code",
   "execution_count": 19,
   "id": "6862d405-23e0-4d90-bfcf-e3fedc3f729e",
   "metadata": {},
   "outputs": [
    {
     "data": {
      "text/plain": [
       "'Hello World'"
      ]
     },
     "execution_count": 19,
     "metadata": {},
     "output_type": "execute_result"
    }
   ],
   "source": [
    "mystring"
   ]
  },
  {
   "cell_type": "code",
   "execution_count": 20,
   "id": "670769ff-ac2b-4a60-a04c-e990bca91baf",
   "metadata": {},
   "outputs": [
    {
     "data": {
      "text/plain": [
       "'e'"
      ]
     },
     "execution_count": 20,
     "metadata": {},
     "output_type": "execute_result"
    }
   ],
   "source": [
    "mystring[1]"
   ]
  },
  {
   "cell_type": "code",
   "execution_count": 24,
   "id": "6a5f4263-0b29-46a2-a22b-c833911e2d74",
   "metadata": {},
   "outputs": [],
   "source": [
    "s='Hello World'"
   ]
  },
  {
   "cell_type": "code",
   "execution_count": 25,
   "id": "871496c6-1645-41b5-b7a1-243446a1848d",
   "metadata": {},
   "outputs": [
    {
     "data": {
      "text/plain": [
       "'e'"
      ]
     },
     "execution_count": 25,
     "metadata": {},
     "output_type": "execute_result"
    }
   ],
   "source": [
    "s[1]"
   ]
  },
  {
   "cell_type": "code",
   "execution_count": 26,
   "id": "5d76db1d-009e-4a49-99bc-f7f5b433b561",
   "metadata": {},
   "outputs": [],
   "source": [
    "s='Hello World'"
   ]
  },
  {
   "cell_type": "code",
   "execution_count": 32,
   "id": "76442e8d-8c6f-4d63-8f34-09a2d2b6e2a7",
   "metadata": {},
   "outputs": [
    {
     "data": {
      "text/plain": [
       "'o'"
      ]
     },
     "execution_count": 32,
     "metadata": {},
     "output_type": "execute_result"
    }
   ],
   "source": [
    "s[4]"
   ]
  },
  {
   "cell_type": "code",
   "execution_count": 31,
   "id": "298750eb-72e4-4875-a9f1-0573e352954b",
   "metadata": {},
   "outputs": [
    {
     "data": {
      "text/plain": [
       "'o'"
      ]
     },
     "execution_count": 31,
     "metadata": {},
     "output_type": "execute_result"
    }
   ],
   "source": [
    "s[4:5]"
   ]
  },
  {
   "cell_type": "code",
   "execution_count": 33,
   "id": "162cdf74-dd74-42e9-a4a6-1e3c7495b609",
   "metadata": {},
   "outputs": [],
   "source": [
    "list=[0,0,0]"
   ]
  },
  {
   "cell_type": "code",
   "execution_count": 34,
   "id": "be83de17-cd34-4cee-8c57-7f1a45c9e235",
   "metadata": {},
   "outputs": [
    {
     "data": {
      "text/plain": [
       "[0, 0, 0]"
      ]
     },
     "execution_count": 34,
     "metadata": {},
     "output_type": "execute_result"
    }
   ],
   "source": [
    "list"
   ]
  },
  {
   "cell_type": "code",
   "execution_count": 35,
   "id": "8d9d5849-83fd-496e-9e77-624c9bf9d3ee",
   "metadata": {},
   "outputs": [],
   "source": [
    "list=[0,4,0,3,0,5,]"
   ]
  },
  {
   "cell_type": "code",
   "execution_count": 46,
   "id": "a4da2eae-f0ae-4838-a834-8773dc43c16f",
   "metadata": {},
   "outputs": [
    {
     "data": {
      "text/plain": [
       "[0, 0, 0]"
      ]
     },
     "execution_count": 46,
     "metadata": {},
     "output_type": "execute_result"
    }
   ],
   "source": [
    "list[0::2]"
   ]
  },
  {
   "cell_type": "code",
   "execution_count": 47,
   "id": "01db1c3d-636a-4abc-b549-677945c746cf",
   "metadata": {},
   "outputs": [],
   "source": [
    "list3= [1,2,[3,4,'hello']]"
   ]
  },
  {
   "cell_type": "code",
   "execution_count": 48,
   "id": "806a3c8b-45f9-4d6e-b078-ea1a1134f5a1",
   "metadata": {},
   "outputs": [
    {
     "data": {
      "text/plain": [
       "[1, 2, [3, 4, 'hello']]"
      ]
     },
     "execution_count": 48,
     "metadata": {},
     "output_type": "execute_result"
    }
   ],
   "source": [
    "list3"
   ]
  },
  {
   "cell_type": "code",
   "execution_count": 57,
   "id": "72006f2b-b68d-4107-a38b-c613c754c775",
   "metadata": {},
   "outputs": [
    {
     "data": {
      "text/plain": [
       "[1, 2, [3, 4, 'hello']]"
      ]
     },
     "execution_count": 57,
     "metadata": {},
     "output_type": "execute_result"
    }
   ],
   "source": [
    "list3"
   ]
  },
  {
   "cell_type": "code",
   "execution_count": 61,
   "id": "38151651-7af4-4011-b57b-be0a235130e7",
   "metadata": {},
   "outputs": [],
   "source": [
    "list3[2][2]='goodbye'"
   ]
  },
  {
   "cell_type": "code",
   "execution_count": 62,
   "id": "92f91c7b-764b-439d-b1b5-ca95f9920647",
   "metadata": {},
   "outputs": [
    {
     "data": {
      "text/plain": [
       "[1, 2, [3, 4, 'goodbye']]"
      ]
     },
     "execution_count": 62,
     "metadata": {},
     "output_type": "execute_result"
    }
   ],
   "source": [
    "list3"
   ]
  },
  {
   "cell_type": "code",
   "execution_count": 78,
   "id": "2b54c866-5d4c-4d2a-945d-b47e648bdbd1",
   "metadata": {},
   "outputs": [],
   "source": [
    "list=[1,3,9,7,7,[65,89,0,8,'hkj']]"
   ]
  },
  {
   "cell_type": "code",
   "execution_count": 79,
   "id": "7c11915d-f141-4372-a41f-14ccd98108db",
   "metadata": {},
   "outputs": [
    {
     "data": {
      "text/plain": [
       "[1, 3, 9, 7, 7, [65, 89, 0, 8, 'hkj']]"
      ]
     },
     "execution_count": 79,
     "metadata": {},
     "output_type": "execute_result"
    }
   ],
   "source": [
    "list"
   ]
  },
  {
   "cell_type": "code",
   "execution_count": 85,
   "id": "edd766c6-d5e7-4463-86ee-9a8aa76fb1cf",
   "metadata": {},
   "outputs": [],
   "source": [
    "list[5][4]='ind'"
   ]
  },
  {
   "cell_type": "code",
   "execution_count": 86,
   "id": "4b4da136-dfc0-4df2-bd66-7ee615869110",
   "metadata": {},
   "outputs": [
    {
     "data": {
      "text/plain": [
       "[1, 3, 9, 7, 7, [65, 89, 0, 8, 'ind']]"
      ]
     },
     "execution_count": 86,
     "metadata": {},
     "output_type": "execute_result"
    }
   ],
   "source": [
    "list"
   ]
  },
  {
   "cell_type": "code",
   "execution_count": 88,
   "id": "b9ba3646-3dae-4b06-ab3b-e7997b8305d9",
   "metadata": {},
   "outputs": [],
   "source": [
    "mylist=[5,3,4,6,1]"
   ]
  },
  {
   "cell_type": "code",
   "execution_count": 90,
   "id": "d8a9b21c-6061-41b2-a6dd-b7e7b0e64b6c",
   "metadata": {},
   "outputs": [
    {
     "data": {
      "text/plain": [
       "{1, 3, 4, 5, 6}"
      ]
     },
     "execution_count": 90,
     "metadata": {},
     "output_type": "execute_result"
    }
   ],
   "source": [
    "set (mylist)"
   ]
  },
  {
   "cell_type": "code",
   "execution_count": null,
   "id": "af6cd50a-7e5f-403d-84bd-19121f6f042f",
   "metadata": {},
   "outputs": [],
   "source": []
  }
 ],
 "metadata": {
  "kernelspec": {
   "display_name": "Python 3 (ipykernel)",
   "language": "python",
   "name": "python3"
  },
  "language_info": {
   "codemirror_mode": {
    "name": "ipython",
    "version": 3
   },
   "file_extension": ".py",
   "mimetype": "text/x-python",
   "name": "python",
   "nbconvert_exporter": "python",
   "pygments_lexer": "ipython3",
   "version": "3.9.13"
  }
 },
 "nbformat": 4,
 "nbformat_minor": 5
}
