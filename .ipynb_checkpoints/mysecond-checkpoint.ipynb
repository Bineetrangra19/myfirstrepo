{
 "cells": [
  {
   "cell_type": "code",
   "execution_count": 1,
   "id": "41edd7c5-1450-4ced-86a4-8c76cad122b8",
   "metadata": {},
   "outputs": [
    {
     "data": {
      "text/plain": [
       "8"
      ]
     },
     "execution_count": 1,
     "metadata": {},
     "output_type": "execute_result"
    }
   ],
   "source": [
    "1*8"
   ]
  },
  {
   "cell_type": "code",
   "execution_count": 2,
   "id": "3457af98-ec11-4c10-98ef-555e17836301",
   "metadata": {},
   "outputs": [
    {
     "name": "stdout",
     "output_type": "stream",
     "text": [
      "bineet\n"
     ]
    }
   ],
   "source": [
    "print('bineet')"
   ]
  },
  {
   "cell_type": "code",
   "execution_count": null,
   "id": "ed47c726-9174-4759-bd51-3f4202d77e66",
   "metadata": {},
   "outputs": [],
   "source": []
  }
 ],
 "metadata": {
  "kernelspec": {
   "display_name": "Python 3 (ipykernel)",
   "language": "python",
   "name": "python3"
  },
  "language_info": {
   "codemirror_mode": {
    "name": "ipython",
    "version": 3
   },
   "file_extension": ".py",
   "mimetype": "text/x-python",
   "name": "python",
   "nbconvert_exporter": "python",
   "pygments_lexer": "ipython3",
   "version": "3.9.13"
  }
 },
 "nbformat": 4,
 "nbformat_minor": 5
}
